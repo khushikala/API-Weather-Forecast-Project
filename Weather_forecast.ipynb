{
  "nbformat": 4,
  "nbformat_minor": 0,
  "metadata": {
    "colab": {
      "name": "Weather forecast.ipynb",
      "provenance": [],
      "authorship_tag": "ABX9TyNHhIv/MAThcXS9rDPMUeNN",
      "include_colab_link": true
    },
    "kernelspec": {
      "name": "python3",
      "display_name": "Python 3"
    },
    "language_info": {
      "name": "python"
    }
  },
  "cells": [
    {
      "cell_type": "markdown",
      "metadata": {
        "id": "view-in-github",
        "colab_type": "text"
      },
      "source": [
        "<a href=\"https://colab.research.google.com/github/khushikala/API-Weather-Forecast-Project/blob/main/Weather_forecast.ipynb\" target=\"_parent\"><img src=\"https://colab.research.google.com/assets/colab-badge.svg\" alt=\"Open In Colab\"/></a>"
      ]
    },
    {
      "cell_type": "code",
      "metadata": {
        "colab": {
          "base_uri": "https://localhost:8080/"
        },
        "id": "YC6m_UHhxPZx",
        "outputId": "d85cef7a-e6db-42da-c417-25aadfab9f55"
      },
      "source": [
        " \n",
        "import requests\n",
        "#import os\n",
        "from datetime import datetime\n",
        " \n",
        "api_key = '5e6fd7b82df275bb16674da455721f79'\n",
        "location = input(\"Enter the city name: \")\n",
        " \n",
        "complete_api_link = \"https://api.openweathermap.org/data/2.5/weather?q=\"+location+\"&appid=\"+api_key\n",
        "api_link = requests.get(complete_api_link)\n",
        "api_data = api_link.json()\n",
        " \n",
        "#create variables to store and display data\n",
        "temp_city = ((api_data['main']['temp']) - 273.15)\n",
        "weather_desc = api_data['weather'][0]['description']\n",
        "hmdt = api_data['main']['humidity']\n",
        "wind_spd = api_data['wind']['speed']\n",
        "country = api_data['sys']['country']\n",
        "clouds = api_data['clouds']['all']\n",
        "date_time = datetime.now().strftime(\"%d %B %Y | %I:%M:%S %p\")\n",
        " \n",
        "print (\"-------------------------------------------------------------\")\n",
        " \n",
        "print (\"Weather Stats for - {}  || {}\".format(location.upper(), date_time))\n",
        " \n",
        "print (\"-------------------------------------------------------------\")\n",
        " \n",
        "print (\"Current Temperature   : {:.2f} deg C\".format(temp_city))\n",
        "print (\"Current Weather Desc  :\",weather_desc)\n",
        "print (\"Current Humidity      :\",hmdt, '%')\n",
        "print (\"Current Wind Speed    :\",wind_spd ,'kmph')\n",
        "print(\"Current Clouds        :\",clouds)\n",
        "print(\"Country               :\",country)\n",
        " \n",
        "print(\"====================================================\")"
      ],
      "execution_count": 1,
      "outputs": [
        {
          "output_type": "stream",
          "text": [
            "Enter the city name: Ujjain\n",
            "-------------------------------------------------------------\n",
            "Weather Stats for - UJJAIN  || 27 July 2021 | 04:23:43 PM\n",
            "-------------------------------------------------------------\n",
            "Current Temperature   : 23.54 deg C\n",
            "Current Weather Desc  : overcast clouds\n",
            "Current Humidity      : 89 %\n",
            "Current Wind Speed    : 6.41 kmph\n",
            "Current Clouds        : 100\n",
            "Country               : IN\n",
            "====================================================\n"
          ],
          "name": "stdout"
        }
      ]
    }
  ]
}